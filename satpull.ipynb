{
 "cells": [
  {
   "cell_type": "code",
   "execution_count": 1,
   "id": "e680e059-9c71-4122-939f-29c8880d9e1d",
   "metadata": {},
   "outputs": [],
   "source": [
    "import pandas as pd\n",
    "import numpy as np\n",
    "import requests\n",
    "import geopandas as gpd\n",
    "from shapely.geometry import shape\n",
    "from multiprocessing import Pool,Process"
   ]
  },
  {
   "cell_type": "code",
   "execution_count": 2,
   "id": "e490dc2e-8b88-47f7-a5f5-1592e385ada8",
   "metadata": {},
   "outputs": [],
   "source": [
    "location = 'France'"
   ]
  },
  {
   "cell_type": "code",
   "execution_count": 3,
   "id": "b1f26041-09d5-43cd-a175-929c8442cd59",
   "metadata": {},
   "outputs": [],
   "source": [
    "dataset_links = pd.read_csv(\"dataset-links.csv\")"
   ]
  },
  {
   "cell_type": "code",
   "execution_count": 4,
   "id": "8a3b4d82-d3f6-4afe-ac6b-3646ac629850",
   "metadata": {},
   "outputs": [
    {
     "data": {
      "text/html": [
       "<div>\n",
       "<style scoped>\n",
       "    .dataframe tbody tr th:only-of-type {\n",
       "        vertical-align: middle;\n",
       "    }\n",
       "\n",
       "    .dataframe tbody tr th {\n",
       "        vertical-align: top;\n",
       "    }\n",
       "\n",
       "    .dataframe thead th {\n",
       "        text-align: right;\n",
       "    }\n",
       "</style>\n",
       "<table border=\"1\" class=\"dataframe\">\n",
       "  <thead>\n",
       "    <tr style=\"text-align: right;\">\n",
       "      <th></th>\n",
       "      <th>Location</th>\n",
       "      <th>QuadKey</th>\n",
       "      <th>Url</th>\n",
       "      <th>Size</th>\n",
       "    </tr>\n",
       "  </thead>\n",
       "  <tbody>\n",
       "    <tr>\n",
       "      <th>0</th>\n",
       "      <td>Abyei</td>\n",
       "      <td>122321003</td>\n",
       "      <td>https://minedbuildings.blob.core.windows.net/g...</td>\n",
       "      <td>4.7KB</td>\n",
       "    </tr>\n",
       "    <tr>\n",
       "      <th>1</th>\n",
       "      <td>Abyei</td>\n",
       "      <td>122321021</td>\n",
       "      <td>https://minedbuildings.blob.core.windows.net/g...</td>\n",
       "      <td>7.7KB</td>\n",
       "    </tr>\n",
       "    <tr>\n",
       "      <th>2</th>\n",
       "      <td>Afghanistan</td>\n",
       "      <td>123011320</td>\n",
       "      <td>https://minedbuildings.blob.core.windows.net/g...</td>\n",
       "      <td>69.1KB</td>\n",
       "    </tr>\n",
       "    <tr>\n",
       "      <th>3</th>\n",
       "      <td>Afghanistan</td>\n",
       "      <td>123011321</td>\n",
       "      <td>https://minedbuildings.blob.core.windows.net/g...</td>\n",
       "      <td>1.3MB</td>\n",
       "    </tr>\n",
       "    <tr>\n",
       "      <th>4</th>\n",
       "      <td>Afghanistan</td>\n",
       "      <td>123011322</td>\n",
       "      <td>https://minedbuildings.blob.core.windows.net/g...</td>\n",
       "      <td>4.1MB</td>\n",
       "    </tr>\n",
       "    <tr>\n",
       "      <th>...</th>\n",
       "      <td>...</td>\n",
       "      <td>...</td>\n",
       "      <td>...</td>\n",
       "      <td>...</td>\n",
       "    </tr>\n",
       "    <tr>\n",
       "      <th>20051</th>\n",
       "      <td>Zimbabwe</td>\n",
       "      <td>300301010</td>\n",
       "      <td>https://minedbuildings.blob.core.windows.net/g...</td>\n",
       "      <td>1.2MB</td>\n",
       "    </tr>\n",
       "    <tr>\n",
       "      <th>20052</th>\n",
       "      <td>Zimbabwe</td>\n",
       "      <td>300301011</td>\n",
       "      <td>https://minedbuildings.blob.core.windows.net/g...</td>\n",
       "      <td>547.6KB</td>\n",
       "    </tr>\n",
       "    <tr>\n",
       "      <th>20053</th>\n",
       "      <td>Zimbabwe</td>\n",
       "      <td>300301100</td>\n",
       "      <td>https://minedbuildings.blob.core.windows.net/g...</td>\n",
       "      <td>731.4KB</td>\n",
       "    </tr>\n",
       "    <tr>\n",
       "      <th>20054</th>\n",
       "      <td>Zimbabwe</td>\n",
       "      <td>300301101</td>\n",
       "      <td>https://minedbuildings.blob.core.windows.net/g...</td>\n",
       "      <td>2.3KB</td>\n",
       "    </tr>\n",
       "    <tr>\n",
       "      <th>20055</th>\n",
       "      <td>Île Saint-Martin</td>\n",
       "      <td>32300312</td>\n",
       "      <td>https://minedbuildings.blob.core.windows.net/g...</td>\n",
       "      <td>1.2MB</td>\n",
       "    </tr>\n",
       "  </tbody>\n",
       "</table>\n",
       "<p>20056 rows × 4 columns</p>\n",
       "</div>"
      ],
      "text/plain": [
       "               Location    QuadKey  \\\n",
       "0                 Abyei  122321003   \n",
       "1                 Abyei  122321021   \n",
       "2           Afghanistan  123011320   \n",
       "3           Afghanistan  123011321   \n",
       "4           Afghanistan  123011322   \n",
       "...                 ...        ...   \n",
       "20051          Zimbabwe  300301010   \n",
       "20052          Zimbabwe  300301011   \n",
       "20053          Zimbabwe  300301100   \n",
       "20054          Zimbabwe  300301101   \n",
       "20055  Île Saint-Martin   32300312   \n",
       "\n",
       "                                                     Url     Size  \n",
       "0      https://minedbuildings.blob.core.windows.net/g...    4.7KB  \n",
       "1      https://minedbuildings.blob.core.windows.net/g...    7.7KB  \n",
       "2      https://minedbuildings.blob.core.windows.net/g...   69.1KB  \n",
       "3      https://minedbuildings.blob.core.windows.net/g...    1.3MB  \n",
       "4      https://minedbuildings.blob.core.windows.net/g...    4.1MB  \n",
       "...                                                  ...      ...  \n",
       "20051  https://minedbuildings.blob.core.windows.net/g...    1.2MB  \n",
       "20052  https://minedbuildings.blob.core.windows.net/g...  547.6KB  \n",
       "20053  https://minedbuildings.blob.core.windows.net/g...  731.4KB  \n",
       "20054  https://minedbuildings.blob.core.windows.net/g...    2.3KB  \n",
       "20055  https://minedbuildings.blob.core.windows.net/g...    1.2MB  \n",
       "\n",
       "[20056 rows x 4 columns]"
      ]
     },
     "execution_count": 4,
     "metadata": {},
     "output_type": "execute_result"
    }
   ],
   "source": [
    "dataset_links"
   ]
  },
  {
   "cell_type": "code",
   "execution_count": 5,
   "id": "387fe224-752e-48ce-aca5-3a2a09742891",
   "metadata": {},
   "outputs": [],
   "source": [
    "links = dataset_links[dataset_links.Location == location]"
   ]
  },
  {
   "cell_type": "code",
   "execution_count": 6,
   "id": "b119f219-0f79-4342-a4b0-14ab63c1ba11",
   "metadata": {},
   "outputs": [
    {
     "data": {
      "text/plain": [
       "(143, 4)"
      ]
     },
     "execution_count": 6,
     "metadata": {},
     "output_type": "execute_result"
    }
   ],
   "source": [
    "links.shape"
   ]
  },
  {
   "cell_type": "code",
   "execution_count": 7,
   "id": "ec3e234e-a879-4b30-8d1b-26bb83492b00",
   "metadata": {},
   "outputs": [],
   "source": [
    "def pro(row):\n",
    "    df = pd.read_json(row[0], lines=True)\n",
    "    df['geometry'] = df['geometry'].apply(shape)\n",
    "    gdf = gpd.GeoDataFrame(df, crs=4326)\n",
    "    gdf.to_file(f\"France/{row[1]}.geojson\", driver=\"GeoJSON\")"
   ]
  },
  {
   "cell_type": "code",
   "execution_count": 8,
   "id": "ba0fbe35-53ac-4c6b-a247-a3df4f187102",
   "metadata": {},
   "outputs": [],
   "source": [
    "Url=links[\"Url\"].tolist()\n",
    "QuadKey = links[\"QuadKey\"].tolist()"
   ]
  },
  {
   "cell_type": "code",
   "execution_count": 9,
   "id": "8c2a0a6f-f9af-4138-89a5-2df2aeed33c7",
   "metadata": {},
   "outputs": [],
   "source": [
    "arg = list(zip(Url,QuadKey))"
   ]
  },
  {
   "cell_type": "code",
   "execution_count": 10,
   "id": "89dd8357-3f52-4c6f-a0d6-6e542aec9bfa",
   "metadata": {},
   "outputs": [],
   "source": [
    "with Pool(15) as p:\n",
    "    p.map(pro,arg)"
   ]
  }
 ],
 "metadata": {
  "kernelspec": {
   "display_name": "Python 3 (ipykernel)",
   "language": "python",
   "name": "python3"
  },
  "language_info": {
   "codemirror_mode": {
    "name": "ipython",
    "version": 3
   },
   "file_extension": ".py",
   "mimetype": "text/x-python",
   "name": "python",
   "nbconvert_exporter": "python",
   "pygments_lexer": "ipython3",
   "version": "3.7.16"
  }
 },
 "nbformat": 4,
 "nbformat_minor": 5
}
